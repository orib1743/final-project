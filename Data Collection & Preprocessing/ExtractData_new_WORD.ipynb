{
 "cells": [
  {
   "cell_type": "code",
   "execution_count": 1,
   "id": "77fb6848-ae27-4847-8e19-586987c36fbc",
   "metadata": {},
   "outputs": [],
   "source": [
    "# שליפת תוכן כותרות והיררכיות, כולל בדיקת סיום טקסט התוכן לפי סיומות המעידות על התחלת הפניות ואזכורי עדכונים ביחס לגרסאות ישנות של קוד המס"
   ]
  },
  {
   "cell_type": "code",
   "execution_count": 9,
   "id": "1aef47ee-5816-48ae-8261-613116a511c3",
   "metadata": {},
   "outputs": [
    {
     "name": "stdout",
     "output_type": "stream",
     "text": [
      "Extracted content saved to D:\\yifat\\Extract_Data_Project\\Extracted_Hierarchy_Content_2018.xlsx\n"
     ]
    }
   ],
   "source": [
    "import pandas as pd\n",
    "from docx import Document\n",
    "\n",
    "# Load the Excel file containing the hierarchy levels and titles\n",
    "excel_file = \"D:\\\\yifat\\\\Extract_Data_Project\\\\Headlines 2018.xlsx\"\n",
    "df = pd.read_excel(excel_file)\n",
    "\n",
    "# Extract the relevant columns from the Excel file\n",
    "titles = df['hierarchy_level_name'].tolist()\n",
    "\n",
    "# Load the Word document\n",
    "word_file = \"D:\\\\yifat\\\\Extract_Data_Project\\\\TITLE 26_2018_new2.docx\"\n",
    "doc = Document(word_file)\n",
    "\n",
    "# Define the strings that indicate stopping points\n",
    "stop_strings = [\"(Aug. 16, 1954\", \"(Added Pub. L.\"]\n",
    "\n",
    "# Initialize variables to store extracted data\n",
    "content_list = []\n",
    "current_hierarchy = None\n",
    "current_content = []\n",
    "\n",
    "# Function to save the current content when switching to a new hierarchy\n",
    "def save_content():\n",
    "    if current_hierarchy and current_content:\n",
    "        content_text = \"\\n\".join(current_content).strip()\n",
    "        content_list.append({\n",
    "            'hierarchy_level_name': current_hierarchy,\n",
    "            'content': content_text,\n",
    "            'word_count': len(content_text.split())\n",
    "        })\n",
    "\n",
    "# Iterate through the paragraphs in the Word document\n",
    "for para in doc.paragraphs:\n",
    "    para_text = para.text.strip()\n",
    "    if para_text in titles:\n",
    "        # Save the current hierarchy content if switching to a new one\n",
    "        save_content()\n",
    "        current_hierarchy = para_text\n",
    "        current_content = []\n",
    "    elif current_hierarchy:\n",
    "        # Stop appending content if we reach a stop string\n",
    "        if any(stop_string in para_text for stop_string in stop_strings):\n",
    "            save_content()\n",
    "            current_hierarchy = None\n",
    "            current_content = []\n",
    "        else:\n",
    "            # Append the paragraph to the current hierarchy content\n",
    "            current_content.append(para_text)\n",
    "\n",
    "# Save the last hierarchy content\n",
    "save_content()\n",
    "\n",
    "# Convert the extracted data to a DataFrame\n",
    "output_df = pd.DataFrame(content_list)\n",
    "\n",
    "# Add the original Excel columns to the DataFrame\n",
    "output_df = df.merge(output_df, on='hierarchy_level_name', how='left')\n",
    "\n",
    "# Save the output to a new Excel file\n",
    "output_file = \"D:\\\\yifat\\\\Extract_Data_Project\\\\Extracted_Hierarchy_Content_2018.xlsx\"\n",
    "output_df.to_excel(output_file, index=False)\n",
    "\n",
    "print(f\"Extracted content saved to {output_file}\")\n"
   ]
  },
  {
   "cell_type": "code",
   "execution_count": null,
   "id": "c8cb11ad-a017-4266-9180-0cf020318279",
   "metadata": {},
   "outputs": [],
   "source": []
  }
 ],
 "metadata": {
  "kernelspec": {
   "display_name": "Python 3 (ipykernel)",
   "language": "python",
   "name": "python3"
  },
  "language_info": {
   "codemirror_mode": {
    "name": "ipython",
    "version": 3
   },
   "file_extension": ".py",
   "mimetype": "text/x-python",
   "name": "python",
   "nbconvert_exporter": "python",
   "pygments_lexer": "ipython3",
   "version": "3.11.7"
  }
 },
 "nbformat": 4,
 "nbformat_minor": 5
}
